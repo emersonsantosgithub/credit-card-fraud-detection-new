{
 "cells": [
  {
   "cell_type": "markdown",
   "id": "8d4f3f7f",
   "metadata": {},
   "source": [
    "# Processamento e Treinamento\n"
   ]
  }
 ],
 "metadata": {
  "language_info": {
   "name": "python"
  }
 },
 "nbformat": 4,
 "nbformat_minor": 5
}
